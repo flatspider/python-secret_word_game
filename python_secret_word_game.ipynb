{
 "cells": [
  {
   "cell_type": "code",
   "execution_count": null,
   "id": "a371ce50",
   "metadata": {},
   "outputs": [],
   "source": [
    "from random import randint\n",
    "\n",
    "# Have a list of secret words.\n",
    "\n",
    "secret_dictionary = ['rubber']\n",
    "size_of_dictionary = len(secret_dictionary) - 1\n",
    "\n",
    "# Randomly choose a word from the random dictionary\n",
    "secret_word = secret_dictionary[randint(0, size_of_dictionary)]\n",
    "\n",
    "size_secret_word = len(secret_word)\n",
    "number_of_guesses = 6\n",
    "guess_list = []\n",
    "letter_array = []\n",
    "\n",
    "\n",
    "print(\"Hello! Let's guess a word: \")\n",
    "\n",
    "# Creates the _ _ _ of a blank hangman board\n",
    "for each in range(0, size_secret_word):\n",
    "    letter_array.append(\"_\")\n",
    "\n",
    "for each in range(0, size_secret_word):\n",
    "    print(letter_array[each], end=\" \")\n",
    "\n",
    "while number_of_guesses > 0:\n",
    "    multiple_letter_check = 0\n",
    "    player_guess = input(\"\\n\\nGuess a letter! \").lower()\n",
    "    while player_guess in guess_list:\n",
    "        player_guess = input(\"\\n\\nGuess a different letter! \").lower()\n",
    "\n",
    "    if player_guess == secret_word:\n",
    "        print(\"Good guess! YOU WIN!!\")\n",
    "        break\n",
    "    if player_guess not in guess_list:\n",
    "        guess_list.append(player_guess)\n",
    "        number_of_guesses -= 1\n",
    "        for each in range(0, size_secret_word):\n",
    "            if (player_guess == secret_word[each]):\n",
    "                letter_array[each] = player_guess\n",
    "                multiple_letter_check += 1\n",
    "\n",
    "    if multiple_letter_check > 0:\n",
    "        number_of_guesses += 1\n",
    "\n",
    "    for each in range(0, size_secret_word):\n",
    "        print(letter_array[each], end=\" \")\n",
    "\n",
    "    print(guess_list)\n",
    "    print(f'You have {number_of_guesses} guesses left!')\n",
    "    if letter_array.count('_') == 0:\n",
    "        print(\"You WIN!\")\n",
    "        break\n"
   ]
  }
 ],
 "metadata": {
  "kernelspec": {
   "display_name": "Python 3 (ipykernel)",
   "language": "python",
   "name": "python3"
  },
  "language_info": {
   "codemirror_mode": {
    "name": "ipython",
    "version": 3
   },
   "file_extension": ".py",
   "mimetype": "text/x-python",
   "name": "python",
   "nbconvert_exporter": "python",
   "pygments_lexer": "ipython3",
   "version": "3.10.6"
  }
 },
 "nbformat": 4,
 "nbformat_minor": 5
}
